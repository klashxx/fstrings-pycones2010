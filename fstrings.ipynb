{
  "cells": [
    {
      "metadata": {
        "collapsed": true
      },
      "cell_type": "markdown",
      "source": "# F-strings: A format system to rule them all\n\n#### Juan Diego Godoy Robles, PyConES 2019, Alicante"
    },
    {
      "metadata": {},
      "cell_type": "markdown",
      "source": "La interpolación de cadenas permite embeber código en cadenas de texto usando una sintaxis mínima y limitando al máximo los posibles errores.\n\n[Wikipedia](https://en.wikipedia.org/wiki/String_interpolation): es el proceso de evaluación de una cadena de de texto literal que contiene al menos un placeholder y que devuelve un resultado en el que estos tokens son reemplazados con los valores resultantes."
    },
    {
      "metadata": {
        "trusted": true
      },
      "cell_type": "code",
      "source": "from datetime import date, datetime, timedelta\ntalk = 'f-strings'\ntalk_date = date(2019, 10 , 5)\nme = 'juan diego'\nminutes_left = 20\n\nprint (\n  f'Ey Pythonists folks!, today is {talk_date:%A %d %B of %Y}.\\n'\n  f'I\\'m {me.title()}, wellcome to this awesome {talk!r} talk.\\nYou\\'ll be free '\n  f'at {datetime.now() + timedelta(minutes=minutes_left):%H:%M} \\U0001f44d'\n)",
      "execution_count": null,
      "outputs": []
    },
    {
      "metadata": {},
      "cell_type": "markdown",
      "source": "Esta feature (presente previamente en numerosos lenguajes), fue propuesta en la [PEP-0498](https://www.python.org/dev/peps/pep-0498/), aprobada no sin su buena dosis de [polémica](https://www.reddit.com/r/Python/comments/3k6qi8/pep_498_approved/) y constituye la base para esta charla."
    },
    {
      "metadata": {},
      "cell_type": "markdown",
      "source": "## ¿Cómo se había resuelto esto antes?\n\nExisten tres metodos, que siguen absolutamente vigentes ya que las` f-strings` no suponen la  _deprecración_ de ninguno de los anteriores."
    },
    {
      "metadata": {},
      "cell_type": "markdown",
      "source": "### Printf style formatting\n\nLos objetos tipo String disponen de un operador de [interpolación](https://docs.python.org/3/library/stdtypes.html#printf-style-string-formatting) similar al `sprintf` en **C**.\n\nSi el proceso de _format_ requiere más de un argumento, el valor deberá ser una _tupla_ cuyo número de elementos deberá coincidir con los especificados en la cadena a formatear, o un objeto que mapee _key-value_ (por ejemplo un diccionario)"
    },
    {
      "metadata": {
        "trusted": true
      },
      "cell_type": "code",
      "source": "'%s %s' % ('Old Fashioned', 'formatting')",
      "execution_count": null,
      "outputs": []
    },
    {
      "metadata": {
        "trusted": true
      },
      "cell_type": "code",
      "source": "'%(style)s %(action)s' % {'style': 'Old Fashioned', 'action': 'formatting'}",
      "execution_count": null,
      "outputs": []
    },
    {
      "metadata": {},
      "cell_type": "markdown",
      "source": "Una de sus desventajas es que necesita especificar el tipo de conversion:"
    },
    {
      "metadata": {
        "trusted": true
      },
      "cell_type": "code",
      "source": "'%' % 'hello'",
      "execution_count": null,
      "outputs": []
    },
    {
      "metadata": {},
      "cell_type": "markdown",
      "source": "Solo permite el formateo de enteros, dobles o cadenas. Cualquier otro tipo debe ser convertido a los anteriores antes de aplicar el formato (quizás esto no suponga un problema serio ya que casi cualquier objeto tiene implementado el metodo __str__, __repr__).\n\nPor otro lado existe un problema conocido al pasarle una tupla con mas de un elemento:"
    },
    {
      "metadata": {
        "trusted": true
      },
      "cell_type": "code",
      "source": "'%s' % ('%-formating sucks',  'much')",
      "execution_count": null,
      "outputs": []
    },
    {
      "metadata": {},
      "cell_type": "markdown",
      "source": "Podemos evitarlo programando de forma defensiva:"
    },
    {
      "metadata": {
        "trusted": true
      },
      "cell_type": "code",
      "source": "'%s' % (('%-formating sucks',  'much'),)",
      "execution_count": null,
      "outputs": []
    },
    {
      "metadata": {},
      "cell_type": "markdown",
      "source": "O conociendo de antemano el número de elementos lo cual es muy poco flexible:"
    },
    {
      "metadata": {
        "trusted": true
      },
      "cell_type": "code",
      "source": "'%s %s' % ('%-formating sucks',  'much')",
      "execution_count": null,
      "outputs": []
    },
    {
      "metadata": {},
      "cell_type": "markdown",
      "source": "### Format String Syntax\n\nMi [método](https://docs.python.org/3/library/string.html#formatstrings) favorito hasta la llegada de las `f-strings`, de hecho  estas ultimas reutilizan gran parte de la sintaxis y los mecanismos de format pero también son mucho más _verbose_."
    },
    {
      "metadata": {
        "trusted": true
      },
      "cell_type": "code",
      "source": "awesome_conf = 'PyConES'\n\n'This {awesome_conf} is really awesome.'.format(awesome_conf=awesome_conf)",
      "execution_count": null,
      "outputs": []
    },
    {
      "metadata": {},
      "cell_type": "markdown",
      "source": "Incluso si lo simplificamos al máximo, podemos ver como la variable queda un poco desconectada del contexto lo cual se hace mucho más evidente al compararlo con el mismo ejemplo usando `f-strings`:"
    },
    {
      "metadata": {
        "trusted": true
      },
      "cell_type": "code",
      "source": "awesome_conf = 'PyConES'\n\nprint('This {} is really awesome.'.format(awesome_conf))\n\nprint(f'This {awesome_conf} is really awesome.')\n",
      "execution_count": null,
      "outputs": []
    },
    {
      "metadata": {},
      "cell_type": "markdown",
      "source": "### Template strings\n\nLas [templates ](https://docs.python.org/3/library/string.html#template-strings) se crearon como alternativa al operador de interpolación, que como hemos visto es muy propenso a errores, con el único [objetivo en mente](https://www.python.org/dev/peps/pep-0292/) de simplificar los modos de formatear (en este caso el termino más apropiado sería substituir) cadenas, con el _trade-off_ de sacrificar la expresividad."
    },
    {
      "metadata": {
        "trusted": true
      },
      "cell_type": "code",
      "source": "from string import Template\nTemplate('Hello from $this').substitute(this='Template')",
      "execution_count": null,
      "outputs": []
    },
    {
      "metadata": {},
      "cell_type": "markdown",
      "source": "No soportan el protocolo *format*, por lo que no es posible realizar conversiones.\n\nEl bajo rendimiento y su poca flexibilidad son otros de sus putos débiles."
    },
    {
      "metadata": {},
      "cell_type": "markdown",
      "source": "## F-strings"
    },
    {
      "metadata": {},
      "cell_type": "markdown",
      "source": "### ¿Qué son?\n\nUna forma de embeber en objetos tipo *String* expresiones que se evalúan en tiempo de ejecución."
    },
    {
      "metadata": {
        "trusted": true
      },
      "cell_type": "code",
      "source": "type(f'{type}')",
      "execution_count": null,
      "outputs": []
    },
    {
      "metadata": {},
      "cell_type": "markdown",
      "source": "### ¿Qué cambios suponen? \n\n**Ninguno**, los métodos anteriores no han sido deprecados."
    },
    {
      "metadata": {},
      "cell_type": "markdown",
      "source": "### ¿Qué ventajas nos aportan?\n\nDos fundamentalmente: \n\n1. Claridad: Sin duda el principal aporte de las `F-strings` es la mejora de la legibilidad  de nuestro código, juzguen ustedes mismos:"
    },
    {
      "metadata": {
        "trusted": true
      },
      "cell_type": "code",
      "source": "ways_2_formatx2 = 6\nawesome_lang = 'Python'\n\nprint(\n    'In %s we have %d ways to do our formatting'\n    % (awesome_lang, int(ways_2_formatx2/2))\n)\nprint(\n    'In {awesome_lang:s} we have {ways_2_format:d} ways to do our formatting'.format(\n        awesome_lang=awesome_lang, ways_2_format=(int(ways_2_formatx2/2))\n    )\n)\nprint (f'In {awesome_lang} we have {int(ways_2_formatx2/2)} ways to do our formatting')",
      "execution_count": null,
      "outputs": []
    },
    {
      "metadata": {},
      "cell_type": "markdown",
      "source": "2. Rendimiento: una `F-string` en primer lugar se evalúa la expresión en tiempo de ejecución y después se combina con la porción literal para devolver la cadena final. No existe ningún otro requerimiento, esto las hace muy rápidas y eficientes: se podría decir que al mismo nivel que la interpolación y superiores a `format`:"
    },
    {
      "metadata": {
        "trusted": true
      },
      "cell_type": "code",
      "source": "import dis\n\ndef foo():\n    x = 42\n    y = 99\n    return '{} + {} = {}'.format(x, y, x + y)\n\ndis.dis(foo)",
      "execution_count": null,
      "outputs": []
    },
    {
      "metadata": {},
      "cell_type": "markdown",
      "source": "Con `LOAD_ATTR`  python referencia a la función format a la que posteriormente llama con `CALL_FUNCTION`  lo cual resulta más pesado que el tratamiento con `F-strings` libre de este _overhead_:"
    },
    {
      "metadata": {
        "trusted": true
      },
      "cell_type": "code",
      "source": "import dis\n\ndef foo():\n    x = 42\n    y = 99\n    return f'{x} + {y} = {x + y}'\n\ndis.dis(foo)",
      "execution_count": null,
      "outputs": []
    },
    {
      "metadata": {},
      "cell_type": "markdown",
      "source": "Podemos comprobarlo en la práctica con una sencilla prueba:"
    },
    {
      "metadata": {
        "trusted": true
      },
      "cell_type": "code",
      "source": "import timeit\n\nprint(timeit.timeit(\"\"\"name='PyConES';year=2019;f'{name} - {year}'\"\"\", number=10000000))\nprint(timeit.timeit(\"\"\"name='PyConES';year=2019;'%s - %d' % (name, year)\"\"\", number=10000000))\nprint(timeit.timeit(\"\"\"name='PyConES';year=2019;'{} - {}'.format(name, year)\"\"\", number=10000000))",
      "execution_count": null,
      "outputs": []
    },
    {
      "metadata": {},
      "cell_type": "markdown",
      "source": "¿Cómo funciona?\n\nEn la  **compilación** solo se podrá detectar errores de sintaxis, por ejemplo si nos dejamos alguna llave (`{` o `}`)  _coja_.\n\nAl **ejecutar**, la expresión se evaluará en el contexto en el que aparezca la `F-string`, por lo que tendrá pleno acceso a las *variables locales y globales*.\n\nEstos dos `print` son totalmente equivalentes:"
    },
    {
      "metadata": {
        "trusted": true
      },
      "cell_type": "code",
      "source": "def hi():\n    return 'Hello'\n\nprint(f'{hi()} world!')\nprint(str(hi())+ ' world!')",
      "execution_count": null,
      "outputs": []
    },
    {
      "metadata": {
        "trusted": true
      },
      "cell_type": "markdown",
      "source": "### ¿Cómo se usan?\n\nDebemos formar una cadena literal a la que se le antepone el prefijo `f` o `F` (ambos son equivalentes).\n\nPor lo demás, su tratamiento es equivalente al de cualquier otra cadena, por ejemplo el carácter que inicia el entrecomillado debe ser igual al que lo finaliza.\n\nUna vez _tokenizado_, una `F-string` se descompone en cadenas literales y expresiones, estas últimas deben de contenerse entre llaves: `{expr}`.\n\nPara escapar una llave, necesitaremos doblarla `{{` o `}}`.\n\nEl carácter de escape `\\` no está permitido dentro de una expresión, este inconveniente puede ser solventado cambiando el carácter de entrecomillado o usando el _triple quoting_.\n\nOpcionalmente y como última parte de una expresión se puede especificar un tipo de conversión, con un funcionamiento análogo a `format`: `!s`  llama a `str()`, `!r` a `repr()` y `!a` a `ascii()`.\n\nAñadir que se pueden usar *especificadores de formato*, en cuyo caso una vez evaluada la expresión se `parearan` al método `__format__` del objeto resultante para que sean interpretado (equivalente a `format`)."
    },
    {
      "metadata": {
        "trusted": true
      },
      "cell_type": "code",
      "source": "from datetime import datetime\nimport decimal\n\nwidth = 6\nprecision = 4\nhora = decimal.Decimal('13.29999999999999999999')\n\nf'''Playing with {{ {\" f-strings '-) \".upper()!s:-^20} }} {datetime.now():%Y}{hora:{width}.{precision}}'''",
      "execution_count": null,
      "outputs": []
    },
    {
      "metadata": {},
      "cell_type": "markdown",
      "source": "También podemos usar `F-strings` en *modo raw*, añadiendo el prefijo `r` o `R` . De esta forma el carácter de escape `\\` no será interpretado."
    },
    {
      "metadata": {
        "trusted": true
      },
      "cell_type": "code",
      "source": "import re\n\nre.search(fr'=\\s*{20 * 2}', 'sum=  40')",
      "execution_count": null,
      "outputs": []
    },
    {
      "metadata": {},
      "cell_type": "markdown",
      "source": "## Fun with F-strings"
    },
    {
      "metadata": {},
      "cell_type": "markdown",
      "source": "### Objects "
    },
    {
      "metadata": {
        "trusted": true
      },
      "cell_type": "code",
      "source": "import datetime\n\nclass Talk:\n    def __init__(self, title, conference, date):\n        self.title = title\n        self.conference = conference\n        self.date = date\n\n    def __str__(self):\n        return f'{self.title} ({self.conference} {self.date:%Y})'\n\n    def __repr__(self):\n        return f'{self.conference}: Today is {self.date:%A %d %B} Wellcome to {self.title!r}'\n\n\nmy_talk = Talk('f-strings', 'PyConES', datetime.date(2019, 10, 5))\nprint(f'''{Talk('f-strings', 'PyConES', datetime.date(2019, 10 , 5))!r}''')\nprint(f'{my_talk}')",
      "execution_count": null,
      "outputs": []
    },
    {
      "metadata": {},
      "cell_type": "markdown",
      "source": "### Exceptions"
    },
    {
      "metadata": {
        "trusted": true
      },
      "cell_type": "code",
      "source": "try:\n    print(non_existent)\nexcept Exception as err:\n    print(f'an error hapenned: {err}')",
      "execution_count": null,
      "outputs": []
    },
    {
      "metadata": {},
      "cell_type": "markdown",
      "source": "### Multiline"
    },
    {
      "metadata": {
        "trusted": true
      },
      "cell_type": "code",
      "source": "print (\n    f'F-strings provide a way to embed \\'{\"expressions\"}\\' inside string literals, '\n    f'using a minimal syntax. '\n)",
      "execution_count": null,
      "outputs": []
    },
    {
      "metadata": {},
      "cell_type": "markdown",
      "source": "### Ternary operator"
    },
    {
      "metadata": {
        "trusted": true
      },
      "cell_type": "code",
      "source": "foo = None\n\nf'{foo if foo is not None else \"foo\"}'",
      "execution_count": null,
      "outputs": []
    },
    {
      "metadata": {},
      "cell_type": "markdown",
      "source": "### Lambda functions"
    },
    {
      "metadata": {
        "trusted": true
      },
      "cell_type": "code",
      "source": "f'{(lambda x: x*2)(3)}'",
      "execution_count": null,
      "outputs": []
    },
    {
      "metadata": {},
      "cell_type": "markdown",
      "source": "### List comprehensions"
    },
    {
      "metadata": {
        "trusted": true
      },
      "cell_type": "code",
      "source": "celsius = [0, 20, 40]\n\n[f'{1.8 * c + 32:.2f} Fahrenheit' for c in celsius]",
      "execution_count": null,
      "outputs": []
    },
    {
      "metadata": {},
      "cell_type": "markdown",
      "source": "### Handy formatting\n\n**Nota**: Equivalente al de `format`."
    },
    {
      "metadata": {
        "trusted": true
      },
      "cell_type": "code",
      "source": "left = 'left'\ncenter = 'center'\nright = 'right'\n\nf'{left:><15}{center:-^10}{right:<>15}'",
      "execution_count": null,
      "outputs": []
    },
    {
      "metadata": {
        "trusted": true
      },
      "cell_type": "code",
      "source": "from math import pi\n\nf'Pi: {pi} - {pi:.4f}'",
      "execution_count": null,
      "outputs": []
    },
    {
      "metadata": {},
      "cell_type": "markdown",
      "source": "### Bonus track: DEBUG  >= 3.8\n\n```python\n>>>foo = 30\n>>> print(f'{foo=}  {cos(radians(foo))=:.3f}')\nfoo=30  cos(radians(foo))=0.866\n```"
    },
    {
      "metadata": {
        "trusted": true
      },
      "cell_type": "code",
      "source": "foo = 30\n\nprint(f'{foo=}  {cos(radians(foo))=:.3f}')",
      "execution_count": null,
      "outputs": []
    },
    {
      "metadata": {},
      "cell_type": "markdown",
      "source": "## Pitfalls"
    },
    {
      "metadata": {},
      "cell_type": "markdown",
      "source": "### Modern Python >= 3.6\n\nEn este caso, IMO esto es más una ventaja que un problema, a estas alturas de la película todos deberíamos estar al menos en esta versión de y evitar el *Legacy Python\"."
    },
    {
      "metadata": {},
      "cell_type": "markdown",
      "source": "### Docstrings\n\nAl evaluación en _runtime_ descarta la posibilidad de que las `F-strings` puedan usarse para documentar código."
    },
    {
      "metadata": {},
      "cell_type": "markdown",
      "source": "### Quoting \n\nLa sintaxis de las `F-strings` pueden resultar un tanto ardua en lo que se refiere al *entrecomillado*, de hecho existe una propuesta, la [PEP536](https://www.python.org/dev/peps/pep-0536/) que aboga por su modificación que entre otras cosas permitiría el uso de las comillas dentro de la expresión con independencia de las *exteriores* permitiendo expresiones del tipo: `f'Magic wand: {bag['wand']:^10}'`.\n\nEsta `PEP` se encuentra en estado *Deferred*, es decir, no hay ningún desarrollador del core que se haya prestado voluntario a desarrollarla."
    },
    {
      "metadata": {},
      "cell_type": "markdown",
      "source": "### Dicts\n\nEl uso con diccionarios puede resultar mucho mas *cómodo* con `format`:"
    },
    {
      "metadata": {
        "trusted": true
      },
      "cell_type": "code",
      "source": "nerd = {'name': 'Juan Diego', 'from': 'Almería'}\n\nprint('This nerd is {name} from {from}'.format(**nerd))\n\nprint(f'This nerd is {nerd[\"name\"]} from {nerd[\"from\"]}')",
      "execution_count": null,
      "outputs": []
    },
    {
      "metadata": {},
      "cell_type": "markdown",
      "source": "### Logging\n\nAl usar `F-strings` con logging podemos encontrarnos ante un problema de rendimiento debido a la llamada automática al método `__str__` del objeto:"
    },
    {
      "metadata": {
        "trusted": true
      },
      "cell_type": "code",
      "source": "import logging\nlogging.basicConfig(level=logging.INFO)\nlogger = logging.getLogger('fail')\n\nclass Dummy:\n    def __init__(self, name):\n        self._name = name\n    def __str__(self):\n        print('logging should be >= INFO')\n        return self._name\n    \nc = Dummy('fstring')\n\nlogger.debug(f'Created: {c}')",
      "execution_count": null,
      "outputs": []
    },
    {
      "metadata": {},
      "cell_type": "markdown",
      "source": "En caso de que esto suponga un problema resulta más conveniente usar la interpolación tradicional:"
    },
    {
      "metadata": {
        "trusted": true
      },
      "cell_type": "code",
      "source": "logger.debug('Created: %s', c)",
      "execution_count": null,
      "outputs": []
    },
    {
      "metadata": {},
      "cell_type": "markdown",
      "source": "### Last but not least\n\n> There should be one-- and preferably only one --obvious way to do it.\n\nUna de las mayores críticas a este nuevo sistemas es que no aporta nada nuevo que no pudiera hacerse con métodos como `format`, y que hace que el lenguaje sea cada vez más pesado."
    },
    {
      "metadata": {},
      "cell_type": "markdown",
      "source": "# ¡¡ Gracias !!"
    }
  ],
  "metadata": {
    "kernelspec": {
      "name": "python36",
      "display_name": "Python 3.6",
      "language": "python"
    },
    "language_info": {
      "mimetype": "text/x-python",
      "nbconvert_exporter": "python",
      "name": "python",
      "pygments_lexer": "ipython3",
      "version": "3.6.6",
      "file_extension": ".py",
      "codemirror_mode": {
        "version": 3,
        "name": "ipython"
      }
    }
  },
  "nbformat": 4,
  "nbformat_minor": 2
}
