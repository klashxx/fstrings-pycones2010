{
  "cells": [
    {
      "metadata": {
        "collapsed": true
      },
      "cell_type": "markdown",
      "source": "# F-strings: A format system to rule them all"
    },
    {
      "metadata": {},
      "cell_type": "markdown",
      "source": "La interpolación de cadenas permite embeber código en cadenas de texto usando una sintaxis mínima y limitando al máximo los posibles errores. PEP-498"
    },
    {
      "metadata": {
        "trusted": true
      },
      "cell_type": "code",
      "source": "from datetime import date, datetime, timedelta\ntalk = 'f-strings'\ntalk_date = date(2019, 10 , 5)\nme = 'juan diego'\nminutes_left = 20\n\nprint (\n  f'Ey Pythonists folks!, today is {talk_date:%A %d %B of %Y}.\\n'\n  f'I\\'m {me.title()}, wellcome to this awesome {talk!r} talk.\\nYou\\'ll be free '\n  f'at {datetime.now() + timedelta(minutes=minutes_left):%H:%M} \\U0001f44d'\n)",
      "execution_count": 23,
      "outputs": [
        {
          "output_type": "stream",
          "text": "Ey Pythonists folks!, today is Saturday 05 October of 2019.\nI'm Juan Diego, wellcome to this awesome 'f-strings' talk.\nYou'll be free at 20:59 👍\n",
          "name": "stdout"
        }
      ]
    },
    {
      "metadata": {},
      "cell_type": "markdown",
      "source": "## ¿Cómo se había resuelto esto antes?\n\nExisten tres metodos, que siguen absolutamente vigentes ya que las` f-strings` no suponen la  _deprecración_ de ninguno de los anteriores."
    },
    {
      "metadata": {},
      "cell_type": "markdown",
      "source": "### Printf style formatting\n\nLos objetos tipo String disponen de un operador de [interpolación](https://docs.python.org/3/library/stdtypes.html#printf-style-string-formatting) similar al `sprintf` en **C**.\n\nSi el proceso de _format_ requiere más de un argumento, el valor deberá ser una _tupla_ cuyo número de elementos deberá coincidir con los especificados en la cadena a formatear, o un objeto que mapee _key-value_ (por ejemplo un diccionario)"
    },
    {
      "metadata": {
        "trusted": true
      },
      "cell_type": "code",
      "source": "'%s %s' % ('Old Fashioned', 'formatting')",
      "execution_count": 24,
      "outputs": [
        {
          "output_type": "execute_result",
          "execution_count": 24,
          "data": {
            "text/plain": "'Old Fashioned formatting'"
          },
          "metadata": {}
        }
      ]
    },
    {
      "metadata": {
        "trusted": true
      },
      "cell_type": "code",
      "source": "'%(style)s %(action)s' % {'style': 'Old Fashioned', 'action': 'formatting'}",
      "execution_count": 25,
      "outputs": [
        {
          "output_type": "execute_result",
          "execution_count": 25,
          "data": {
            "text/plain": "'Old Fashioned formatting'"
          },
          "metadata": {}
        }
      ]
    },
    {
      "metadata": {},
      "cell_type": "markdown",
      "source": "Desventajas: \n\nNecesita especificar el tipo de conversion:"
    },
    {
      "metadata": {
        "trusted": true
      },
      "cell_type": "code",
      "source": "'%' % 'hello'",
      "execution_count": 26,
      "outputs": [
        {
          "output_type": "error",
          "ename": "ValueError",
          "evalue": "incomplete format",
          "traceback": [
            "\u001b[0;31m---------------------------------------------------------------------------\u001b[0m",
            "\u001b[0;31mValueError\u001b[0m                                Traceback (most recent call last)",
            "\u001b[0;32m<ipython-input-26-5fa45fee0682>\u001b[0m in \u001b[0;36m<module>\u001b[0;34m\u001b[0m\n\u001b[0;32m----> 1\u001b[0;31m \u001b[0;34m'%'\u001b[0m \u001b[0;34m%\u001b[0m \u001b[0;34m'hello'\u001b[0m\u001b[0;34m\u001b[0m\u001b[0m\n\u001b[0m",
            "\u001b[0;31mValueError\u001b[0m: incomplete format"
          ]
        }
      ]
    },
    {
      "metadata": {},
      "cell_type": "markdown",
      "source": "Solo permite el formateo de enteros, dobles o cadenas. Cualquier otro tipo debe ser convertido a los anteriores antes de aplicar el formato (quizas esto no suponga un problema serio ya que casi cualquier objeto tiene implentado el metodo __str__, __repr__).\n\nPor otro lado existe un problema conocido al pasarle una tupla con mas de un elemento:"
    },
    {
      "metadata": {
        "trusted": true
      },
      "cell_type": "code",
      "source": "'%s' % ('%-formating sucks',  'much')",
      "execution_count": 27,
      "outputs": [
        {
          "output_type": "error",
          "ename": "TypeError",
          "evalue": "not all arguments converted during string formatting",
          "traceback": [
            "\u001b[0;31m---------------------------------------------------------------------------\u001b[0m",
            "\u001b[0;31mTypeError\u001b[0m                                 Traceback (most recent call last)",
            "\u001b[0;32m<ipython-input-27-6deb128e47bb>\u001b[0m in \u001b[0;36m<module>\u001b[0;34m\u001b[0m\n\u001b[0;32m----> 1\u001b[0;31m \u001b[0;34m'%s'\u001b[0m \u001b[0;34m%\u001b[0m \u001b[0;34m(\u001b[0m\u001b[0;34m'%-formating sucks'\u001b[0m\u001b[0;34m,\u001b[0m  \u001b[0;34m'much'\u001b[0m\u001b[0;34m)\u001b[0m\u001b[0;34m\u001b[0m\u001b[0m\n\u001b[0m",
            "\u001b[0;31mTypeError\u001b[0m: not all arguments converted during string formatting"
          ]
        }
      ]
    },
    {
      "metadata": {},
      "cell_type": "markdown",
      "source": "Podemos evitarlo programando de forma defensiva:"
    },
    {
      "metadata": {
        "trusted": true
      },
      "cell_type": "code",
      "source": "'%s' % (('%-formating sucks',  'much'),)",
      "execution_count": 28,
      "outputs": [
        {
          "output_type": "execute_result",
          "execution_count": 28,
          "data": {
            "text/plain": "\"('%-formating sucks', 'much')\""
          },
          "metadata": {}
        }
      ]
    },
    {
      "metadata": {},
      "cell_type": "markdown",
      "source": "O conociendo de antemano el numero de elemento, poco flexible:"
    },
    {
      "metadata": {
        "trusted": true
      },
      "cell_type": "code",
      "source": "'%s %s' % ('%-formating sucks',  'much')",
      "execution_count": 29,
      "outputs": [
        {
          "output_type": "execute_result",
          "execution_count": 29,
          "data": {
            "text/plain": "'%-formating sucks much'"
          },
          "metadata": {}
        }
      ]
    },
    {
      "metadata": {},
      "cell_type": "markdown",
      "source": "### Format String Syntax\n\nMi [método](https://docs.python.org/3/library/string.html#formatstrings) favorito hasta la llegada de las `f-strings`, de hecho  estas ultimas reutilizan gran parte de la sintaxis y los mecanismos de format pero tambien son mucho mas _verbose_.\n\nEstudiemos este ejemplo:"
    },
    {
      "metadata": {
        "trusted": true
      },
      "cell_type": "code",
      "source": "awesome_conf = 'PyConES'\n\n'This {awesome_conf} is really awesome.'.format(awesome_conf=awesome_conf)",
      "execution_count": 30,
      "outputs": [
        {
          "output_type": "execute_result",
          "execution_count": 30,
          "data": {
            "text/plain": "'This PyConES is really awesome.'"
          },
          "metadata": {}
        }
      ]
    },
    {
      "metadata": {},
      "cell_type": "markdown",
      "source": "Incluso si lo simplificamos al máximo, podemos ver como la variable queda un poco desconectada del contexto lo cual se hace mucho mas evidente al compararlo con el mismo ejemplo usando f-strings:"
    },
    {
      "metadata": {
        "trusted": true
      },
      "cell_type": "code",
      "source": "awesome_conf = 'PyConES'\n\nprint('This {} is really awesome.'.format(awesome_conf))\n\nprint(f'This {awesome_conf} is really awesome.')\n",
      "execution_count": 14,
      "outputs": [
        {
          "output_type": "stream",
          "text": "This PyConES is really awesome.\nThis PyConES is really awesome.\n",
          "name": "stdout"
        }
      ]
    },
    {
      "metadata": {},
      "cell_type": "markdown",
      "source": "### Template strings\n\nLas [templates ](https://docs.python.org/3/library/string.html#template-strings) se crearon como alternativa al operador de interpolación, que como hemos visto es muy propenso a errores, con el único [objetivo en mente](https://www.python.org/dev/peps/pep-0292/) de simplificar los modos de formatear (en este caso el termino más apropiado sería substituir) cadenas, con el _trade-off_ de sacrificar la expresividad."
    },
    {
      "metadata": {
        "trusted": true
      },
      "cell_type": "code",
      "source": "from string import Template\nTemplate('Hello from $this').substitute(this='Template')",
      "execution_count": 15,
      "outputs": [
        {
          "output_type": "execute_result",
          "execution_count": 15,
          "data": {
            "text/plain": "'Hello from Template'"
          },
          "metadata": {}
        }
      ]
    },
    {
      "metadata": {},
      "cell_type": "markdown",
      "source": "No soportan el protocolo format, por lo que no es posible realizar conversiones.\n\nEl bajo rendimiento y su poca flexibilidad son otros de sus putos débiles."
    },
    {
      "metadata": {},
      "cell_type": "markdown",
      "source": "## F-strings"
    },
    {
      "metadata": {},
      "cell_type": "markdown",
      "source": "### ¿Que son?\n\nUna forma de embeber en objetos tipo String expresiones que se evalúan en tiempo de ejecución."
    },
    {
      "metadata": {
        "trusted": true
      },
      "cell_type": "code",
      "source": "type(f'{type}')",
      "execution_count": 16,
      "outputs": [
        {
          "output_type": "execute_result",
          "execution_count": 16,
          "data": {
            "text/plain": "str"
          },
          "metadata": {}
        }
      ]
    },
    {
      "metadata": {},
      "cell_type": "markdown",
      "source": "### ¿Qué cambios suponen? \n\n**Ninguno**, los métodos anteriores no han sido deprecados."
    },
    {
      "metadata": {},
      "cell_type": "markdown",
      "source": "### ¿Qué ventajas nos aportan?\n\nDos fundamentalmente: \n\n1. Claridad: Sin duda el principal aporte de las `F-strings` es la mejora de la legibilidad  de nuestro código, juzgen ustedes mismos:"
    },
    {
      "metadata": {
        "trusted": true
      },
      "cell_type": "code",
      "source": "ways_2_formatx2 = 6\nawesome_lang = 'Python'\n\nprint(\n    'In %s we have %d ways to do our formatting'\n    % (awesome_lang, int(ways_2_formatx2/2))\n)\nprint(\n    'In {awesome_lang:s} we have {ways_2_format:d} ways to do our formatting'.format(\n        awesome_lang=awesome_lang, ways_2_format=(int(ways_2_formatx2/2))\n    )\n)\nprint (f'In {awesome_lang} we have {int(ways_2_formatx2/2)} ways to do our formatting')",
      "execution_count": 19,
      "outputs": [
        {
          "output_type": "stream",
          "text": "In Python we have 3 ways to do our formatting\nIn Python we have 3 ways to do our formatting\nIn Python we have 3 ways to do our formatting\n",
          "name": "stdout"
        }
      ]
    },
    {
      "metadata": {},
      "cell_type": "markdown",
      "source": "2. Rendimiento:  un una `f-string` en primer lugar se evalua la expresión y después se combina con la porción literal para devolver la cadena final. No exsiste nigún otro requerimento, esto las hace muy rapidas y efecientes."
    },
    {
      "metadata": {
        "trusted": true
      },
      "cell_type": "code",
      "source": "import timeit\n\nformat_funcs = {\n    'f-strings': \"\"\"\ndef format(superhero, rank):\n    return f'{superhero} has a rank of {rank}!'\n\"\"\",\n    '%-formatting': \"\"\"\ndef format(superhero, rank):\n    return '%s has a rank of %s!' % (superhero, str(rank))\n\"\"\",\n    '.format()': \"\"\"\ndef format(superhero, rank):\n    return '{} has a rank of {}!'.format(superhero, str(rank))\n\"\"\",\n    'concatenation +': \"\"\"\ndef format(superhero, rank):\n    return superhero + ' has a rank of ' + str(rank) + '!'\n\"\"\",\n    'concatenation ()': \"\"\"\ndef format(superhero, rank):\n    return superhero, ' has a rank of ', str(rank), '!'\n\"\"\"\n}\n\ntest_func = \"\"\"def test_format():\n    for superhero in ('Wonder Woman', 'Supergirl', 'Batman', 'Robin'):\n        for rank in range (1, 101):\n            format(superhero, rank)\n\"\"\"\n\ndata = []\n\nfor key, func in format_funcs.items():\n    data.append({\n        'method': key,\n        'time': float(timeit.timeit('test_format()', func + test_func, number=10000))\n    })",
      "execution_count": null,
      "outputs": []
    },
    {
      "metadata": {
        "trusted": true
      },
      "cell_type": "markdown",
      "source": "### ¿Como se usan?\n\n\nDebemos formar una cadena literal a la que se le antepone el prefijo `f` o `F` (ambos son equivalentes).\n\nPor lo demás, su tratamiento es equivalente al de cualquier otra cadena, por ejemplo el carácter que inicia el entrecomillado debe ser igual al que lo finaliza.\n\nUna vez _tokenizado_, un f-string se descomponen en cadenas literales y expresiones, estas ultimas deben de contenerse entre llaves\n\nPara escapar una llave, necesitaremos doblarla `{{` o `}}`.\n\nEl caracter de escape `\\` no esta permitido dentro de una expresión, este inconveniente puede ser solventado cambiando el carácter de entrecomillado o usando el _triple quoting_.\n\nOpcionalmente y como ultima parte de una expresión se puede especificar un tipo de conversión, con un funcionamiento análogo a `format`: `!s`  llama a `str()`, `!r` a `repr()` y `!a` a `ascii()`."
    },
    {
      "metadata": {
        "trusted": true
      },
      "cell_type": "code",
      "source": "from datetime import datetime\n\nf'''Playing with {{ {\"f-strings '-)\".upper()!s} }} {datetime.now():%Y}'''",
      "execution_count": 2,
      "outputs": [
        {
          "output_type": "execute_result",
          "execution_count": 2,
          "data": {
            "text/plain": "\"Playing with { F-STRINGS '-) } 2019\""
          },
          "metadata": {}
        }
      ]
    },
    {
      "metadata": {},
      "cell_type": "markdown",
      "source": "También podemos usar F-strings en *modo raw*, añadiendo el prefijo `r` o `R` . De esta forma el carácter de escape `\\` no será interpretado."
    },
    {
      "metadata": {
        "trusted": true
      },
      "cell_type": "code",
      "source": "import re\n\nre.search(fr'=\\s*{20 * 2}', 'sum=  40')",
      "execution_count": 3,
      "outputs": [
        {
          "output_type": "execute_result",
          "execution_count": 3,
          "data": {
            "text/plain": "<_sre.SRE_Match object; span=(3, 8), match='=  40'>"
          },
          "metadata": {}
        }
      ]
    },
    {
      "metadata": {},
      "cell_type": "markdown",
      "source": "### Fun with F-strings"
    },
    {
      "metadata": {},
      "cell_type": "markdown",
      "source": "Para crear una cadena *multiline*:"
    },
    {
      "metadata": {
        "trusted": true
      },
      "cell_type": "code",
      "source": "print (\n    f'F-strings provide a way to embed \\'{\"expressions\"}\\' inside string literals, '\n    f'using a minimal syntax. '\n)",
      "execution_count": 4,
      "outputs": [
        {
          "output_type": "stream",
          "text": "F-strings provide a way to embed 'expressions' inside string literals, using a minimal syntax. \n",
          "name": "stdout"
        }
      ]
    },
    {
      "metadata": {},
      "cell_type": "markdown",
      "source": "Ternary operator:"
    },
    {
      "metadata": {
        "trusted": true
      },
      "cell_type": "code",
      "source": "foo = None\n\nf'{foo if foo is not None else \"foo\"}'",
      "execution_count": 5,
      "outputs": [
        {
          "output_type": "execute_result",
          "execution_count": 5,
          "data": {
            "text/plain": "'foo'"
          },
          "metadata": {}
        }
      ]
    },
    {
      "metadata": {},
      "cell_type": "markdown",
      "source": "## Pitfalls"
    },
    {
      "metadata": {},
      "cell_type": "markdown",
      "source": "### Modern Python >= 3.6\n\nEn este caso, IMO esto es más una ventaja que un problema, a estas alturas de la película todos deberíamos estar al menos en esta versión de y evitar el *Legacy Python\"."
    },
    {
      "metadata": {},
      "cell_type": "markdown",
      "source": "### Quoting \n\nLa sintaxis de las F-strings pueden resultar un tanto ardua en lo que se refiere al entrecomillado, de hecho existe una propuesta, la [PEP536](https://www.python.org/dev/peps/pep-0536/) que aboga por su modificación que entre otras cosas permitiría el uso de las comillas dentro de la expresión con independencia de las *exteriores* permitiendo expresiones del tipo: `f'Magic wand: {bag['wand']:^10}'`.\n\nEsta PEP se encuentra en estado *Deferred*, es decir, no hay ningún desarrollador del core que se haya prestado voluntario a desarrollarla."
    },
    {
      "metadata": {},
      "cell_type": "markdown",
      "source": "### Dicts\n\nEl uso con diccionarios puede resultar mucho mas *cómodo* con `format`:"
    },
    {
      "metadata": {
        "trusted": true
      },
      "cell_type": "code",
      "source": "nerd = {'name': 'Juan Diego', 'from': 'Almería'}\n\nprint('This nerd is {name} from {from}'.format(**nerd))\n\nprint(f'This nerd is {nerd[\"name\"]} from {nerd[\"from\"]}')",
      "execution_count": 7,
      "outputs": [
        {
          "output_type": "stream",
          "text": "This nerd is Juan Diego from Almería\nThis nerd is Juan Diego from Almería\n",
          "name": "stdout"
        }
      ]
    },
    {
      "metadata": {},
      "cell_type": "markdown",
      "source": "### Logging\n\nAl usar F-strings con logging podemos encontrarno ante un problema de rendimiento ya que llamar de forma automatica al metodo `__str__` del objeto:"
    },
    {
      "metadata": {
        "trusted": true
      },
      "cell_type": "code",
      "source": "import logging\nlogging.basicConfig(level=logging.INFO)\nlogger = logging.getLogger('fail')\n\nclass Dummy:\n    def __init__(self, name):\n        self._name = name\n    def __str__(self):\n        print('logging should be >= INFO')\n        return self._name\n    \nc = Dummy('fstring')\n\nlogger.debug(f'Created: {c}')\nlogger.debug('Created: %s', c)",
      "execution_count": 8,
      "outputs": [
        {
          "output_type": "stream",
          "text": "logging should be >= INFO\n",
          "name": "stdout"
        }
      ]
    },
    {
      "metadata": {},
      "cell_type": "markdown",
      "source": "En caso de que esto suponga un problema resulta más conveniente usar la interpolación tradicional:"
    },
    {
      "metadata": {},
      "cell_type": "markdown",
      "source": "### Last but not least\n\n> There should be one-- and preferably only one --obvious way to do it.\n\nUna de las mayores criticas a este nuevo sistemas es que no aporta nada nuevo que no pudiera hacerse con métodos como `format`, y que hace que el lenguaje sea cada vez mas pesado."
    }
  ],
  "metadata": {
    "kernelspec": {
      "name": "python36",
      "display_name": "Python 3.6",
      "language": "python"
    },
    "language_info": {
      "mimetype": "text/x-python",
      "nbconvert_exporter": "python",
      "name": "python",
      "pygments_lexer": "ipython3",
      "version": "3.6.6",
      "file_extension": ".py",
      "codemirror_mode": {
        "version": 3,
        "name": "ipython"
      }
    }
  },
  "nbformat": 4,
  "nbformat_minor": 2
}
